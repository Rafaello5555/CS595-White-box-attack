{
  "cells": [
    {
      "cell_type": "code",
      "execution_count": null,
      "metadata": {
        "colab": {
          "base_uri": "https://localhost:8080/"
        },
        "id": "1Bo_EfVsT4jz",
        "outputId": "7c7d4bc8-6b70-4531-d972-a595c1ca0d3f"
      },
      "outputs": [
        {
          "output_type": "stream",
          "name": "stdout",
          "text": [
            "Downloading http://yann.lecun.com/exdb/mnist/train-images-idx3-ubyte.gz\n",
            "Downloading http://yann.lecun.com/exdb/mnist/train-images-idx3-ubyte.gz to data/MNIST/raw/train-images-idx3-ubyte.gz\n"
          ]
        },
        {
          "output_type": "stream",
          "name": "stderr",
          "text": [
            "100%|██████████| 9912422/9912422 [00:00<00:00, 83834506.04it/s]\n"
          ]
        },
        {
          "output_type": "stream",
          "name": "stdout",
          "text": [
            "Extracting data/MNIST/raw/train-images-idx3-ubyte.gz to data/MNIST/raw\n",
            "\n",
            "Downloading http://yann.lecun.com/exdb/mnist/train-labels-idx1-ubyte.gz\n",
            "Downloading http://yann.lecun.com/exdb/mnist/train-labels-idx1-ubyte.gz to data/MNIST/raw/train-labels-idx1-ubyte.gz\n"
          ]
        },
        {
          "output_type": "stream",
          "name": "stderr",
          "text": [
            "100%|██████████| 28881/28881 [00:00<00:00, 9891050.37it/s]"
          ]
        },
        {
          "output_type": "stream",
          "name": "stdout",
          "text": [
            "Extracting data/MNIST/raw/train-labels-idx1-ubyte.gz to data/MNIST/raw\n",
            "\n",
            "Downloading http://yann.lecun.com/exdb/mnist/t10k-images-idx3-ubyte.gz\n"
          ]
        },
        {
          "output_type": "stream",
          "name": "stderr",
          "text": [
            "\n"
          ]
        },
        {
          "output_type": "stream",
          "name": "stdout",
          "text": [
            "Downloading http://yann.lecun.com/exdb/mnist/t10k-images-idx3-ubyte.gz to data/MNIST/raw/t10k-images-idx3-ubyte.gz\n"
          ]
        },
        {
          "output_type": "stream",
          "name": "stderr",
          "text": [
            "100%|██████████| 1648877/1648877 [00:00<00:00, 19573129.82it/s]"
          ]
        },
        {
          "output_type": "stream",
          "name": "stdout",
          "text": [
            "Extracting data/MNIST/raw/t10k-images-idx3-ubyte.gz to data/MNIST/raw\n"
          ]
        },
        {
          "output_type": "stream",
          "name": "stderr",
          "text": [
            "\n"
          ]
        },
        {
          "output_type": "stream",
          "name": "stdout",
          "text": [
            "\n",
            "Downloading http://yann.lecun.com/exdb/mnist/t10k-labels-idx1-ubyte.gz\n",
            "Downloading http://yann.lecun.com/exdb/mnist/t10k-labels-idx1-ubyte.gz to data/MNIST/raw/t10k-labels-idx1-ubyte.gz\n"
          ]
        },
        {
          "output_type": "stream",
          "name": "stderr",
          "text": [
            "100%|██████████| 4542/4542 [00:00<00:00, 3959785.65it/s]\n"
          ]
        },
        {
          "output_type": "stream",
          "name": "stdout",
          "text": [
            "Extracting data/MNIST/raw/t10k-labels-idx1-ubyte.gz to data/MNIST/raw\n",
            "\n",
            "Training data size: 60032\n",
            "Test data size: 10048\n",
            "Shape of X [N, C, H, W]: torch.Size([64, 1, 28, 28])\n",
            "Shape of y: torch.Size([64]) torch.int64\n"
          ]
        }
      ],
      "source": [
        "import torch\n",
        "from torch import nn\n",
        "from torch.utils.data import DataLoader\n",
        "from torchvision import datasets\n",
        "from torchvision.transforms import ToTensor\n",
        "\n",
        "\n",
        "# Download training data from MNIST datasets.\n",
        "training_data = datasets.MNIST(\n",
        "    root=\"data\",\n",
        "    train=True,\n",
        "    download=True,\n",
        "    transform=ToTensor(),\n",
        ")\n",
        "\n",
        "# Download test data from open datasets.\n",
        "test_data = datasets.MNIST(\n",
        "    root=\"data\",\n",
        "    train=False,\n",
        "    download=True,\n",
        "    transform=ToTensor(),\n",
        ")\n",
        "\n",
        "batch_size = 64\n",
        "\n",
        "# Create data loaders to iterate over data\n",
        "train_dataloader = DataLoader(training_data, batch_size=batch_size)\n",
        "test_dataloader = DataLoader(test_data, batch_size=batch_size)\n",
        "\n",
        "print(\"Training data size:\", len(train_dataloader)* batch_size)\n",
        "print(\"Test data size:\", len(test_dataloader) * batch_size)\n",
        "\n",
        "for X, y in test_dataloader:\n",
        "    print(f\"Shape of X [N, C, H, W]: {X.shape}\")\n",
        "    print(f\"Shape of y: {y.shape} {y.dtype}\")\n",
        "    break\n"
      ]
    },
    {
      "cell_type": "code",
      "execution_count": null,
      "metadata": {
        "colab": {
          "base_uri": "https://localhost:8080/"
        },
        "id": "rgkJtOrvVehY",
        "outputId": "80a4da92-6c7d-4563-8c11-eb20b2369b15"
      },
      "outputs": [
        {
          "output_type": "stream",
          "name": "stdout",
          "text": [
            "Using cpu device\n",
            "NeuralNetwork(\n",
            "  (flatten): Flatten(start_dim=1, end_dim=-1)\n",
            "  (linear_relu_stack): Sequential(\n",
            "    (0): Linear(in_features=784, out_features=512, bias=True)\n",
            "    (1): ReLU()\n",
            "    (2): Linear(in_features=512, out_features=512, bias=True)\n",
            "    (3): ReLU()\n",
            "    (4): Linear(in_features=512, out_features=10, bias=True)\n",
            "  )\n",
            ")\n"
          ]
        }
      ],
      "source": [
        "\n",
        "from data import *\n",
        "device = torch.device(\"cuda\" if torch.cuda.is_available()\n",
        "else \"mps\" if torch.backends.mps.is_available()\n",
        "else \"cpu\")\n",
        "\n",
        "print(f\"Using {device} device\")\n",
        "\n",
        "#Define model\n",
        "class NeuralNetwork(nn.Module):\n",
        "       def __init__(self, input_size, hidden_size, num_classes):\n",
        "             super().__init__()\n",
        "             self.flatten = nn.Flatten()\n",
        "             self.linear_relu_stack = nn.Sequential(nn.Linear(input_size, hidden_size),\n",
        "                                                     nn.ReLU(),\n",
        "                                             nn.Linear(hidden_size, hidden_size),\n",
        "                                                nn.ReLU(),\n",
        "                                             nn.Linear(hidden_size, num_classes))\n",
        "       def forward(self, image_tensor):\n",
        "        image_tensor = self.flatten(image_tensor)\n",
        "        logits = self.linear_relu_stack(image_tensor)\n",
        "        return logits\n",
        "input_size = 28*28\n",
        "hidden_size = 512\n",
        "num_classes = 10\n",
        "\n",
        "model = NeuralNetwork(input_size, hidden_size, num_classes).to(device)\n",
        "print(model)\n"
      ]
    },
    {
      "cell_type": "code",
      "execution_count": null,
      "metadata": {
        "id": "o9fKBoQJWKJi"
      },
      "outputs": [],
      "source": [
        "# Define our learning rate, loss function and optimizer\n",
        "learning_rate = 1e-3 # 0.001\n",
        "loss_fn = nn.CrossEntropyLoss()\n",
        "optimizer = torch.optim.Adam(model.parameters(), lr=learning_rate)\n",
        "\n",
        "# Let's define our training function\n",
        "def train(dataloader, model, loss_fn, optimizer):\n",
        "    size = len(dataloader.dataset)\n",
        "    model.train()\n",
        "    print(size)\n",
        "\n",
        "    for batch_num, (X, y) in enumerate(dataloader):\n",
        "        X, y = X.to(device), y.to(device)\n",
        "\n",
        "\n",
        "        # Forward pass to compute prediction\n",
        "        pred = model(X)\n",
        "        # Compute prediction error using loss function\n",
        "        loss = loss_fn(pred, y)\n",
        "\n",
        "        # Backward pass\n",
        "        optimizer.zero_grad() # zero any previous gradient calculations\n",
        "        loss.backward() # calculate gradient\n",
        "        optimizer.step() # update model parameters\n",
        "\n",
        "\n",
        "        if batch_num > 0 and batch_num % 100 == 0:\n",
        "\n",
        "            loss, current = loss.item(), batch_num * len(X)\n",
        "\n",
        "            print(f\"loss: {loss:>7f}  [{current:>5d}/{size:>5d}]\")"
      ]
    },
    {
      "cell_type": "code",
      "execution_count": null,
      "metadata": {
        "id": "D7R4_1TAWqak"
      },
      "outputs": [],
      "source": [
        "# Our test function\n",
        "def test(dataloader, model, loss_fn):\n",
        "    size = len(dataloader.dataset)\n",
        "\n",
        "    num_batches = len(dataloader)\n",
        "    model.eval()\n",
        "    test_loss, correct = 0, 0\n",
        "    for X, y in dataloader:\n",
        "        X, y = X.to(device), y.to(device)\n",
        "        pred = model(X)\n",
        "        test_loss += loss_fn(pred, y).item()\n",
        "        correct += (pred.argmax(1) == y).type(torch.float).sum().item()\n",
        "    test_loss /= num_batches\n",
        "    correct /= size\n",
        "    print(f\"Test Error: \\n Accuracy: {(100*correct):>0.1f}%, Avg loss: {test_loss:>8f} \\n\")"
      ]
    },
    {
      "cell_type": "code",
      "execution_count": null,
      "metadata": {
        "colab": {
          "base_uri": "https://localhost:8080/"
        },
        "id": "8pDK1j44WviF",
        "outputId": "76e6c464-1ed9-4046-bc4c-f28f2ff2746c"
      },
      "outputs": [
        {
          "name": "stdout",
          "output_type": "stream",
          "text": [
            "Epoch 1\n",
            "-------------------------------\n",
            "60000\n",
            "loss: 0.268714  [ 6400/60000]\n",
            "loss: 0.200253  [12800/60000]\n",
            "loss: 0.242973  [19200/60000]\n",
            "loss: 0.142733  [25600/60000]\n",
            "loss: 0.342634  [32000/60000]\n",
            "loss: 0.128765  [38400/60000]\n",
            "loss: 0.234448  [44800/60000]\n",
            "loss: 0.238469  [51200/60000]\n",
            "loss: 0.161584  [57600/60000]\n",
            "Test Error: \n",
            " Accuracy: 95.4%, Avg loss: 0.145716 \n",
            "\n",
            "Epoch 2\n",
            "-------------------------------\n",
            "60000\n",
            "loss: 0.094390  [ 6400/60000]\n",
            "loss: 0.149229  [12800/60000]\n",
            "loss: 0.091209  [19200/60000]\n",
            "loss: 0.049177  [25600/60000]\n",
            "loss: 0.135029  [32000/60000]\n",
            "loss: 0.046671  [38400/60000]\n",
            "loss: 0.125195  [44800/60000]\n",
            "loss: 0.149340  [51200/60000]\n",
            "loss: 0.097758  [57600/60000]\n",
            "Test Error: \n",
            " Accuracy: 97.0%, Avg loss: 0.096799 \n",
            "\n",
            "Epoch 3\n",
            "-------------------------------\n",
            "60000\n",
            "loss: 0.053332  [ 6400/60000]\n",
            "loss: 0.064790  [12800/60000]\n",
            "loss: 0.060549  [19200/60000]\n",
            "loss: 0.024525  [25600/60000]\n",
            "loss: 0.049589  [32000/60000]\n",
            "loss: 0.032454  [38400/60000]\n",
            "loss: 0.072347  [44800/60000]\n",
            "loss: 0.081914  [51200/60000]\n",
            "loss: 0.028056  [57600/60000]\n",
            "Test Error: \n",
            " Accuracy: 97.8%, Avg loss: 0.074953 \n",
            "\n",
            "Epoch 4\n",
            "-------------------------------\n",
            "60000\n",
            "loss: 0.008217  [ 6400/60000]\n",
            "loss: 0.041494  [12800/60000]\n",
            "loss: 0.087883  [19200/60000]\n",
            "loss: 0.010041  [25600/60000]\n",
            "loss: 0.038990  [32000/60000]\n",
            "loss: 0.030696  [38400/60000]\n",
            "loss: 0.034742  [44800/60000]\n",
            "loss: 0.061870  [51200/60000]\n",
            "loss: 0.049181  [57600/60000]\n",
            "Test Error: \n",
            " Accuracy: 95.7%, Avg loss: 0.195028 \n",
            "\n",
            "Epoch 5\n",
            "-------------------------------\n",
            "60000\n",
            "loss: 0.050438  [ 6400/60000]\n",
            "loss: 0.043555  [12800/60000]\n",
            "loss: 0.072352  [19200/60000]\n",
            "loss: 0.053782  [25600/60000]\n",
            "loss: 0.095086  [32000/60000]\n",
            "loss: 0.019797  [38400/60000]\n",
            "loss: 0.033150  [44800/60000]\n",
            "loss: 0.069826  [51200/60000]\n",
            "loss: 0.055272  [57600/60000]\n",
            "Test Error: \n",
            " Accuracy: 97.9%, Avg loss: 0.081632 \n",
            "\n",
            "Done!\n"
          ]
        }
      ],
      "source": [
        "# Let's run training\n",
        "epochs = 5\n",
        "for t in range(epochs):\n",
        "    print(f\"Epoch {t+1}\\n-------------------------------\")\n",
        "    train(train_dataloader, model, loss_fn, optimizer)\n",
        "    test(test_dataloader, model, loss_fn)\n",
        "print(\"Done!\")"
      ]
    },
    {
      "cell_type": "code",
      "execution_count": null,
      "metadata": {
        "colab": {
          "base_uri": "https://localhost:8080/"
        },
        "id": "j6yxTtadr393",
        "outputId": "f07abbf8-3d84-4fc1-c9a9-ed990e6c17ba"
      },
      "outputs": [
        {
          "name": "stdout",
          "output_type": "stream",
          "text": [
            "Saved PyTorch Model State to ml_with_pytorch_model.pth\n",
            "Predicted: \"7\", Actual: \"7\"\n",
            "Predicted: \"2\", Actual: \"2\"\n",
            "Predicted: \"1\", Actual: \"1\"\n",
            "Predicted: \"0\", Actual: \"0\"\n",
            "Predicted: \"4\", Actual: \"4\"\n",
            "Predicted: \"1\", Actual: \"1\"\n",
            "Predicted: \"4\", Actual: \"4\"\n",
            "Predicted: \"9\", Actual: \"9\"\n",
            "Predicted: \"5\", Actual: \"5\"\n",
            "Predicted: \"9\", Actual: \"9\"\n"
          ]
        }
      ],
      "source": [
        "# Save our model parameters\n",
        "torch.save(model.state_dict(), \"ml_with_pytorch_model.pth\")\n",
        "print(\"Saved PyTorch Model State to ml_with_pytorch_model.pth\")\n",
        "\n",
        "# Load the saved model parameters into a new instance of the model\n",
        "model = NeuralNetwork(input_size, hidden_size, num_classes).to(device)\n",
        "model.load_state_dict(torch.load(\"ml_with_pytorch_model.pth\"))\n",
        "\n",
        "# Inference using the new model instance\n",
        "model.eval()\n",
        "for i in range(10):\n",
        "    x, y = test_data[i][0], test_data[i][1]\n",
        "\n",
        "    x = x.to(device)\n",
        "    pred = model(x)\n",
        "    predicted, actual = pred[0].argmax(0).item(), y\n",
        "    print(f'Predicted: \"{predicted}\", Actual: \"{actual}\"')"
      ]
    },
    {
      "cell_type": "markdown",
      "metadata": {
        "id": "pR9EUAk0PAIG"
      },
      "source": [
        "FGSM ATTACK"
      ]
    },
    {
      "cell_type": "code",
      "execution_count": null,
      "metadata": {
        "id": "McC2TMIUS4_5"
      },
      "outputs": [],
      "source": [
        "import torch\n",
        "import torch.nn as nn\n",
        "import torch.nn.functional as F\n",
        "import torch.optim as optim\n",
        "from torchvision import datasets, transforms\n",
        "import numpy as np\n",
        "import matplotlib.pyplot as plt"
      ]
    },
    {
      "cell_type": "code",
      "execution_count": null,
      "metadata": {
        "colab": {
          "base_uri": "https://localhost:8080/"
        },
        "id": "m8KW2aLvSx2v",
        "outputId": "efb455ac-372b-45e5-cca2-f099376cadc7"
      },
      "outputs": [
        {
          "data": {
            "text/plain": [
              "<torch._C.Generator at 0x7a24e0339b10>"
            ]
          },
          "execution_count": 19,
          "metadata": {},
          "output_type": "execute_result"
        }
      ],
      "source": [
        "epsilons = [0, .05, .1, .15, .2, .25, .3]\n",
        "pretrained_model = \"/content/lenet_mnist_model.pth\"\n",
        "use_cuda=True\n",
        "# Set random seed for reproducibility\n",
        "torch.manual_seed(42)"
      ]
    },
    {
      "cell_type": "code",
      "execution_count": null,
      "metadata": {
        "colab": {
          "base_uri": "https://localhost:8080/"
        },
        "id": "i6YQqrwWSsjr",
        "outputId": "0cc4bcb2-b143-41b6-8abe-7b431f58aefd"
      },
      "outputs": [
        {
          "name": "stdout",
          "output_type": "stream",
          "text": [
            "CUDA Available:  True\n"
          ]
        },
        {
          "data": {
            "text/plain": [
              "Net(\n",
              "  (conv1): Conv2d(1, 32, kernel_size=(3, 3), stride=(1, 1))\n",
              "  (conv2): Conv2d(32, 64, kernel_size=(3, 3), stride=(1, 1))\n",
              "  (dropout1): Dropout(p=0.25, inplace=False)\n",
              "  (dropout2): Dropout(p=0.5, inplace=False)\n",
              "  (fc1): Linear(in_features=9216, out_features=128, bias=True)\n",
              "  (fc2): Linear(in_features=128, out_features=10, bias=True)\n",
              ")"
            ]
          },
          "execution_count": 20,
          "metadata": {},
          "output_type": "execute_result"
        }
      ],
      "source": [
        "# LeNet Model definition\n",
        "class Net(nn.Module):\n",
        "    def __init__(self):\n",
        "        super(Net, self).__init__()\n",
        "        self.conv1 = nn.Conv2d(1, 32, 3, 1)\n",
        "        self.conv2 = nn.Conv2d(32, 64, 3, 1)\n",
        "        self.dropout1 = nn.Dropout(0.25)\n",
        "        self.dropout2 = nn.Dropout(0.5)\n",
        "        self.fc1 = nn.Linear(9216, 128)\n",
        "        self.fc2 = nn.Linear(128, 10)\n",
        "\n",
        "    def forward(self, x):\n",
        "        x = self.conv1(x)\n",
        "        x = F.relu(x)\n",
        "        x = self.conv2(x)\n",
        "        x = F.relu(x)\n",
        "        x = F.max_pool2d(x, 2)\n",
        "        x = self.dropout1(x)\n",
        "        x = torch.flatten(x, 1)\n",
        "        x = self.fc1(x)\n",
        "        x = F.relu(x)\n",
        "        x = self.dropout2(x)\n",
        "        x = self.fc2(x)\n",
        "        output = F.log_softmax(x, dim=1)\n",
        "        return output\n",
        "\n",
        "# MNIST Test dataset and dataloader declaration\n",
        "test_loader = torch.utils.data.DataLoader(\n",
        "    datasets.MNIST('../data', train=False, download=True, transform=transforms.Compose([\n",
        "            transforms.ToTensor(),\n",
        "            transforms.Normalize((0.1307,), (0.3081,)),\n",
        "            ])),\n",
        "        batch_size=1, shuffle=True)\n",
        "\n",
        "# Define what device we are using\n",
        "print(\"CUDA Available: \",torch.cuda.is_available())\n",
        "device = torch.device(\"cuda\" if use_cuda and torch.cuda.is_available() else \"cpu\")\n",
        "\n",
        "# Initialize the network\n",
        "model = Net().to(device)\n",
        "\n",
        "# Load the pretrained model\n",
        "model.load_state_dict(torch.load(pretrained_model, map_location=device))\n",
        "\n",
        "# Set the model in evaluation mode. In this case this is for the Dropout layers\n",
        "model.eval()"
      ]
    },
    {
      "cell_type": "code",
      "execution_count": null,
      "metadata": {
        "id": "ZF1YNBABVqqe"
      },
      "outputs": [],
      "source": [
        "# FGSM attack code\n",
        "def fgsm_attack(image, epsilon, data_grad):\n",
        "    # Collect the element-wise sign of the data gradient\n",
        "    sign_data_grad = data_grad.sign()\n",
        "    # Create the perturbed image by adjusting each pixel of the input image\n",
        "    perturbed_image = image + epsilon*sign_data_grad\n",
        "    # Adding clipping to maintain [0,1] range\n",
        "    perturbed_image = torch.clamp(perturbed_image, 0, 1)\n",
        "    # Return the perturbed image\n",
        "    return perturbed_image\n",
        "\n",
        "# restores the tensors to their original scale\n",
        "def denorm(batch, mean=[0.1307], std=[0.3081]):\n",
        "    \"\"\"\n",
        "    Convert a batch of tensors to their original scale.\n",
        "\n",
        "    Args:\n",
        "        batch (torch.Tensor): Batch of normalized tensors.\n",
        "        mean (torch.Tensor or list): Mean used for normalization.\n",
        "        std (torch.Tensor or list): Standard deviation used for normalization.\n",
        "\n",
        "    Returns:\n",
        "        torch.Tensor: batch of tensors without normalization applied to them.\n",
        "    \"\"\"\n",
        "    if isinstance(mean, list):\n",
        "        mean = torch.tensor(mean).to(device)\n",
        "    if isinstance(std, list):\n",
        "        std = torch.tensor(std).to(device)\n",
        "\n",
        "    return batch * std.view(1, -1, 1, 1) + mean.view(1, -1, 1, 1)"
      ]
    },
    {
      "cell_type": "code",
      "execution_count": null,
      "metadata": {
        "id": "iAU90Ll3Vtg9"
      },
      "outputs": [],
      "source": [
        "def test( model, device, test_loader, epsilon ):\n",
        "\n",
        "    # Accuracy counter\n",
        "    correct = 0\n",
        "    adv_examples = []\n",
        "\n",
        "    # Loop over all examples in test set\n",
        "    for data, target in test_loader:\n",
        "\n",
        "        # Send the data and label to the device\n",
        "        data, target = data.to(device), target.to(device)\n",
        "\n",
        "        # Set requires_grad attribute of tensor. Important for Attack\n",
        "        data.requires_grad = True\n",
        "\n",
        "        # Forward pass the data through the model\n",
        "        output = model(data)\n",
        "        init_pred = output.max(1, keepdim=True)[1] # get the index of the max log-probability\n",
        "\n",
        "        # If the initial prediction is wrong, don't bother attacking, just move on\n",
        "        if init_pred.item() != target.item():\n",
        "            continue\n",
        "\n",
        "        # Calculate the loss\n",
        "        loss = F.nll_loss(output, target)\n",
        "\n",
        "        # Zero all existing gradients\n",
        "        model.zero_grad()\n",
        "\n",
        "        # Calculate gradients of model in backward pass\n",
        "        loss.backward()\n",
        "\n",
        "        # Collect ``datagrad``\n",
        "        data_grad = data.grad.data\n",
        "\n",
        "        # Restore the data to its original scale\n",
        "        data_denorm = denorm(data)\n",
        "\n",
        "        # Call FGSM Attack\n",
        "        perturbed_data = fgsm_attack(data_denorm, epsilon, data_grad)\n",
        "\n",
        "        # Reapply normalization\n",
        "        perturbed_data_normalized = transforms.Normalize((0.1307,), (0.3081,))(perturbed_data)\n",
        "\n",
        "        # Re-classify the perturbed image\n",
        "        output = model(perturbed_data_normalized)\n",
        "\n",
        "        # Check for success\n",
        "        final_pred = output.max(1, keepdim=True)[1] # get the index of the max log-probability\n",
        "        if final_pred.item() == target.item():\n",
        "            correct += 1\n",
        "            # Special case for saving 0 epsilon examples\n",
        "            if epsilon == 0 and len(adv_examples) < 5:\n",
        "                adv_ex = perturbed_data.squeeze().detach().cpu().numpy()\n",
        "                adv_examples.append( (init_pred.item(), final_pred.item(), adv_ex) )\n",
        "        else:\n",
        "            # Save some adv examples for visualization later\n",
        "            if len(adv_examples) < 5:\n",
        "                adv_ex = perturbed_data.squeeze().detach().cpu().numpy()\n",
        "                adv_examples.append( (init_pred.item(), final_pred.item(), adv_ex) )\n",
        "\n",
        "    # Calculate final accuracy for this epsilon\n",
        "    final_acc = correct/float(len(test_loader))\n",
        "    print(f\"Epsilon: {epsilon}\\tTest Accuracy = {correct} / {len(test_loader)} = {final_acc}\")\n",
        "\n",
        "    # Return the accuracy and an adversarial example\n",
        "    return final_acc, adv_examples"
      ]
    },
    {
      "cell_type": "code",
      "execution_count": null,
      "metadata": {
        "colab": {
          "base_uri": "https://localhost:8080/"
        },
        "id": "ylROfutNVwWk",
        "outputId": "f2f347ef-c91d-4d64-903b-2020409cf325"
      },
      "outputs": [
        {
          "name": "stdout",
          "output_type": "stream",
          "text": [
            "Epsilon: 0\tTest Accuracy = 9912 / 10000 = 0.9912\n",
            "Epsilon: 0.05\tTest Accuracy = 9605 / 10000 = 0.9605\n",
            "Epsilon: 0.1\tTest Accuracy = 8743 / 10000 = 0.8743\n",
            "Epsilon: 0.15\tTest Accuracy = 7111 / 10000 = 0.7111\n",
            "Epsilon: 0.2\tTest Accuracy = 4877 / 10000 = 0.4877\n",
            "Epsilon: 0.25\tTest Accuracy = 2717 / 10000 = 0.2717\n",
            "Epsilon: 0.3\tTest Accuracy = 1418 / 10000 = 0.1418\n"
          ]
        }
      ],
      "source": [
        "accuracies = []\n",
        "examples = []\n",
        "\n",
        "# Run test for each epsilon\n",
        "for eps in epsilons:\n",
        "    acc, ex = test(model, device, test_loader, eps)\n",
        "    accuracies.append(acc)\n",
        "    examples.append(ex)"
      ]
    },
    {
      "cell_type": "code",
      "execution_count": null,
      "metadata": {
        "colab": {
          "base_uri": "https://localhost:8080/",
          "height": 1000
        },
        "id": "O13FPXGaXE7x",
        "outputId": "500a484e-c8bd-4576-e21a-bc657868787f"
      },
      "outputs": [
        {
          "data": {
            "image/png": "[encoded data removed]",
            "text/plain": [
              "<Figure size 800x1000 with 35 Axes>"
            ]
          },
          "metadata": {},
          "output_type": "display_data"
        }
      ],
      "source": [
        "# Plot several examples of adversarial samples at each epsilon\n",
        "cnt = 0\n",
        "plt.figure(figsize=(8,10))\n",
        "for i in range(len(epsilons)):\n",
        "    for j in range(len(examples[i])):\n",
        "        cnt += 1\n",
        "        plt.subplot(len(epsilons),len(examples[0]),cnt)\n",
        "        plt.xticks([], [])\n",
        "        plt.yticks([], [])\n",
        "        if j == 0:\n",
        "            plt.ylabel(f\"Eps: {epsilons[i]}\", fontsize=14)\n",
        "        orig,adv,ex = examples[i][j]\n",
        "        plt.title(f\"{orig} -> {adv}\")\n",
        "        plt.imshow(ex, cmap=\"gray\")\n",
        "plt.tight_layout()\n",
        "plt.show()"
      ]
    },
    {
      "cell_type": "code",
      "execution_count": null,
      "metadata": {
        "colab": {
          "base_uri": "https://localhost:8080/",
          "height": 341
        },
        "id": "lPGC7S2YXa_Y",
        "outputId": "bc1af4a0-890c-4e2c-9708-843065931835"
      },
      "outputs": [
        {
          "data": {
            "image/png": "[encoded data removed]",
            "text/plain": [
              "<Figure size 800x400 with 2 Axes>"
            ]
          },
          "metadata": {},
          "output_type": "display_data"
        }
      ],
      "source": [
        "import numpy as np\n",
        "import matplotlib.pyplot as plt\n",
        "from keras.datasets import mnist\n",
        "\n",
        "# Load MNIST dataset\n",
        "(x_train, y_train), (x_test, y_test) = mnist.load_data()\n",
        "\n",
        "# Choose an image from the dataset\n",
        "image_index = 0\n",
        "original_image = x_test[image_index]\n",
        "\n",
        "\n",
        "\n",
        "# Generate perturbation (adding random noise)\n",
        "perturbation = np.random.normal(loc=0, scale=25, size=original_image.shape)\n",
        "\n",
        "# Add perturbation to the original image\n",
        "perturbed_image = original_image + perturbation\n",
        "\n",
        "# Clip values to ensure they are within the valid range [0, 255]\n",
        "perturbed_image = np.clip(perturbed_image, 0, 255)\n",
        "\n",
        "\n",
        "\n",
        "\n",
        "# Plot original and perturbed images\n",
        "plt.figure(figsize=(8, 4))\n",
        "\n",
        "plt.subplot(1, 2, 1)\n",
        "plt.imshow(original_image, cmap='gray')\n",
        "plt.title('Original Image')\n",
        "plt.axis('off')\n",
        "\n",
        "plt.subplot(1, 2, 2)\n",
        "plt.imshow(perturbed_image, cmap='gray')\n",
        "plt.title('Perturbed Image')\n",
        "plt.axis('off')\n",
        "plt.savefig(\"perturbed_image.png\")\n",
        "plt.show()\n"
      ]
    },
    {
      "cell_type": "code",
      "execution_count": null,
      "metadata": {
        "id": "71sOmspLJ8xu",
        "colab": {
          "base_uri": "https://localhost:8080/"
        },
        "outputId": "375f07ad-1188-47a6-8a27-3e5f08a05a67"
      },
      "outputs": [
        {
          "output_type": "stream",
          "name": "stdout",
          "text": [
            "Epoch 1\n",
            "-------------------------------\n",
            "60000\n",
            "loss: 0.247984  [ 6400/60000]\n",
            "loss: 0.190830  [12800/60000]\n",
            "loss: 0.240079  [19200/60000]\n",
            "loss: 0.138697  [25600/60000]\n",
            "loss: 0.328954  [32000/60000]\n",
            "loss: 0.137062  [38400/60000]\n",
            "loss: 0.253609  [44800/60000]\n",
            "loss: 0.342759  [51200/60000]\n",
            "loss: 0.172728  [57600/60000]\n",
            "Epoch 2\n",
            "-------------------------------\n",
            "60000\n",
            "loss: 0.114006  [ 6400/60000]\n",
            "loss: 0.094374  [12800/60000]\n",
            "loss: 0.099795  [19200/60000]\n",
            "loss: 0.041827  [25600/60000]\n",
            "loss: 0.098348  [32000/60000]\n",
            "loss: 0.054462  [38400/60000]\n",
            "loss: 0.149452  [44800/60000]\n",
            "loss: 0.133910  [51200/60000]\n",
            "loss: 0.116361  [57600/60000]\n",
            "Epoch 3\n",
            "-------------------------------\n",
            "60000\n",
            "loss: 0.062209  [ 6400/60000]\n",
            "loss: 0.044581  [12800/60000]\n",
            "loss: 0.094021  [19200/60000]\n",
            "loss: 0.042418  [25600/60000]\n",
            "loss: 0.054065  [32000/60000]\n",
            "loss: 0.046945  [38400/60000]\n",
            "loss: 0.043699  [44800/60000]\n",
            "loss: 0.138425  [51200/60000]\n",
            "loss: 0.065454  [57600/60000]\n",
            "Epoch 4\n",
            "-------------------------------\n",
            "60000\n",
            "loss: 0.017415  [ 6400/60000]\n",
            "loss: 0.024062  [12800/60000]\n",
            "loss: 0.137659  [19200/60000]\n",
            "loss: 0.024916  [25600/60000]\n",
            "loss: 0.046955  [32000/60000]\n",
            "loss: 0.033484  [38400/60000]\n",
            "loss: 0.032900  [44800/60000]\n",
            "loss: 0.068500  [51200/60000]\n",
            "loss: 0.015746  [57600/60000]\n",
            "Epoch 5\n",
            "-------------------------------\n",
            "60000\n",
            "loss: 0.050369  [ 6400/60000]\n",
            "loss: 0.044030  [12800/60000]\n",
            "loss: 0.072380  [19200/60000]\n",
            "loss: 0.005051  [25600/60000]\n",
            "loss: 0.031846  [32000/60000]\n",
            "loss: 0.020629  [38400/60000]\n",
            "loss: 0.026338  [44800/60000]\n",
            "loss: 0.136893  [51200/60000]\n",
            "loss: 0.096571  [57600/60000]\n",
            "Done!\n"
          ]
        }
      ],
      "source": [
        "#Train and save FC-512-512 MODEL\n",
        "\n",
        "# Let's run training\n",
        "epochs = 5\n",
        "for t in range(epochs):\n",
        "    print(f\"Epoch {t+1}\\n-------------------------------\")\n",
        "    train(train_dataloader, model, loss_fn, optimizer)\n",
        "\n",
        "print(\"Done!\")\n"
      ]
    }
  ],
  "metadata": {
    "accelerator": "GPU",
    "colab": {
      "gpuType": "T4",
      "provenance": []
    },
    "kernelspec": {
      "display_name": "Python 3",
      "name": "python3"
    },
    "language_info": {
      "name": "python"
    }
  },
  "nbformat": 4,
  "nbformat_minor": 0
}